{
 "cells": [
  {
   "cell_type": "code",
   "execution_count": 1,
   "metadata": {},
   "outputs": [],
   "source": [
    "import csv\n",
    "import math"
   ]
  },
  {
   "cell_type": "code",
   "execution_count": 2,
   "metadata": {},
   "outputs": [],
   "source": [
    "def angle(x,y,z):\n",
    "    return math.atan2(math.sqrt(z**2+y**2),x)"
   ]
  },
  {
   "cell_type": "code",
   "execution_count": 3,
   "metadata": {},
   "outputs": [],
   "source": [
    "from glob import glob\n",
    "import pandas as pd\n",
    "import os\n",
    "import json\n",
    "import matplotlib.pyplot as plt\n",
    "import h5py\n",
    "import numpy as np\n",
    "from skimage.color import rgb2gray\n",
    "from skimage.util import montage\n",
    "import seaborn as sns\n",
    "sns.set_style(\"whitegrid\", {'axes.grid' : False})\n",
    "try:\n",
    "    from tqdm import tqdm\n",
    "except ImportError:\n",
    "    print('Missing tqdm...')\n",
    "    tqdm = lambda x: x\n",
    "data_dir = os.path.join('..', 'input')"
   ]
  },
  {
   "cell_type": "code",
   "execution_count": 4,
   "metadata": {},
   "outputs": [
    {
     "name": "stdout",
     "output_type": "stream",
     "text": [
      "['image', 'look_vec', 'path']\n"
     ]
    },
    {
     "name": "stderr",
     "output_type": "stream",
     "text": [
      "<ipython-input-4-9e5d51f83d1d>:6: H5pyDeprecationWarning: dataset.value has been deprecated. Use dataset[()] instead.\n",
      "  look_vec = t_file['look_vec'].value\n"
     ]
    },
    {
     "name": "stdout",
     "output_type": "stream",
     "text": [
      "Images found: 50000\n",
      "image ..\\..\\..\\..\\Downloads\\UnityEyes_Windows\\UnityEyes_Windows\\imgs\\1.jpg shape: (35, 55)\n"
     ]
    }
   ],
   "source": [
    "# load the data file and extract dimensions\n",
    "with h5py.File('gaze.h5','r') as t_file:\n",
    "    print(list(t_file.keys()))\n",
    "    assert 'image' in t_file, \"Images are missing\"\n",
    "    assert 'look_vec' in t_file, \"Look vector is missing\"\n",
    "    look_vec = t_file['look_vec'].value\n",
    "    assert 'path' in t_file, \"Paths are missing\"\n",
    "    print('Images found:',len(t_file['image']))\n",
    "    for _, (ikey, ival) in zip(range(1), t_file['image'].items()):\n",
    "        print('image',ikey,'shape:',ival.shape)\n",
    "        img_width, img_height = ival.shape\n",
    "    syn_image_stack = np.stack([a for a in t_file['image'].values()],0)"
   ]
  },
  {
   "cell_type": "code",
   "execution_count": 5,
   "metadata": {},
   "outputs": [],
   "source": [
    "head_pose = []\n",
    "with open('gaze.csv') as csv_file:\n",
    "    csv_reader = csv.reader(csv_file, delimiter=',')\n",
    "    next(csv_reader)\n",
    "    for row in csv_reader:\n",
    "        temp1, temp2, temp3 = repr({row[4]}).split(\", \")\n",
    "        fixed1 = temp1.split(\"(\")\n",
    "        fixed3 = temp3.split(\")\")\n",
    "        head_pose.append([round(float(fixed1[1]),4),round(float(temp2)-180,4),float(fixed3[0])])"
   ]
  },
  {
   "cell_type": "code",
   "execution_count": 6,
   "metadata": {},
   "outputs": [],
   "source": [
    "def to_deg(x):\n",
    "    temp = x*180/math.pi\n",
    "    return temp\n",
    "    \n",
    "def to_rad(x):\n",
    "    temp = x*math.pi/180\n",
    "    return temp\n",
    "\n",
    "def vector(angle): # Use radians\n",
    "    x = math.cos(angle)\n",
    "    y = math.sin(angle)\n",
    "    return x,y\n",
    "\n",
    "def angle_between(angle1, angle2): #angles in degrees\n",
    "    theta1 = vector(to_rad(angle1))\n",
    "    theta2 = vector(to_rad(angle2))\n",
    "    x, y, z = theta1[0]+theta2[1], theta1[1], theta2[0]\n",
    "    return x, y, z"
   ]
  },
  {
   "cell_type": "code",
   "execution_count": 11,
   "metadata": {},
   "outputs": [
    {
     "name": "stdout",
     "output_type": "stream",
     "text": [
      "(35, 55)\n",
      "Angle: 21.28\n"
     ]
    },
    {
     "data": {
      "image/png": "[encoded data removed]",
      "text/plain": [
       "<Figure size 432x288 with 1 Axes>"
      ]
     },
     "metadata": {},
     "output_type": "display_data"
    }
   ],
   "source": [
    "index = 3\n",
    "#print(\"--HEAD ANGLE--\",head_pose[index])\n",
    "head = angle_between(head_pose[index][0],head_pose[index][1])\n",
    "#print(head)\n",
    "plt.imshow(syn_image_stack[index],cmap='gray')\n",
    "print(syn_image_stack[index].shape)\n",
    "a,b,c,d = look_vec[index]\n",
    "#print(\"--AB--\",a*90,b*90)\n",
    "eye = angle_between(a*90,b*90)\n",
    "#print(eye)\n",
    "x = head[0]-eye[0]\n",
    "y = head[1]-eye[1]\n",
    "z = head[2]-eye[2]\n",
    "#print(x,y,z)\n",
    "actual = to_deg(angle(x,y,z))\n",
    "print(\"Angle:\",round(actual,2))"
   ]
  },
  {
   "cell_type": "code",
   "execution_count": null,
   "metadata": {},
   "outputs": [],
   "source": []
  }
 ],
 "metadata": {
  "kernelspec": {
   "display_name": "Python 3",
   "language": "python",
   "name": "python3"
  },
  "language_info": {
   "codemirror_mode": {
    "name": "ipython",
    "version": 3
   },
   "file_extension": ".py",
   "mimetype": "text/x-python",
   "name": "python",
   "nbconvert_exporter": "python",
   "pygments_lexer": "ipython3",
   "version": "3.8.3"
  }
 },
 "nbformat": 4,
 "nbformat_minor": 4
}
