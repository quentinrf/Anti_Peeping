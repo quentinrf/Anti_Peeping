{
 "cells": [
  {
   "cell_type": "code",
   "execution_count": 1,
   "metadata": {},
   "outputs": [],
   "source": [
    "import csv\n",
    "import math\n",
    "import cv2"
   ]
  },
  {
   "cell_type": "code",
   "execution_count": 2,
   "metadata": {},
   "outputs": [],
   "source": [
    "def angle(x,y,z):\n",
    "    return math.atan2(math.sqrt(z**2+y**2),x)"
   ]
  },
  {
   "cell_type": "code",
   "execution_count": 3,
   "metadata": {},
   "outputs": [],
   "source": [
    "from glob import glob\n",
    "import pandas as pd\n",
    "import os\n",
    "import json\n",
    "import matplotlib.pyplot as plt\n",
    "import h5py\n",
    "import numpy as np\n",
    "from skimage.color import rgb2gray\n",
    "from skimage.util import montage\n",
    "import seaborn as sns\n",
    "sns.set_style(\"whitegrid\", {'axes.grid' : False})\n",
    "try:\n",
    "    from tqdm import tqdm\n",
    "except ImportError:\n",
    "    print('Missing tqdm...')\n",
    "    tqdm = lambda x: x\n",
    "data_dir = os.path.join('..', 'input')"
   ]
  },
  {
   "cell_type": "code",
   "execution_count": 4,
   "metadata": {},
   "outputs": [
    {
     "name": "stdout",
     "output_type": "stream",
     "text": [
      "['image', 'look_vec', 'path']\n"
     ]
    },
    {
     "name": "stderr",
     "output_type": "stream",
     "text": [
      "<ipython-input-4-9e5d51f83d1d>:6: H5pyDeprecationWarning: dataset.value has been deprecated. Use dataset[()] instead.\n",
      "  look_vec = t_file['look_vec'].value\n"
     ]
    },
    {
     "name": "stdout",
     "output_type": "stream",
     "text": [
      "Images found: 50000\n",
      "image ..\\..\\..\\..\\Downloads\\UnityEyes_Windows\\UnityEyes_Windows\\imgs\\1.jpg shape: (35, 55)\n"
     ]
    }
   ],
   "source": [
    "# load the data file and extract dimensions\n",
    "with h5py.File('gaze.h5','r') as t_file:\n",
    "    print(list(t_file.keys()))\n",
    "    assert 'image' in t_file, \"Images are missing\"\n",
    "    assert 'look_vec' in t_file, \"Look vector is missing\"\n",
    "    look_vec = t_file['look_vec'].value\n",
    "    assert 'path' in t_file, \"Paths are missing\"\n",
    "    print('Images found:',len(t_file['image']))\n",
    "    for _, (ikey, ival) in zip(range(1), t_file['image'].items()):\n",
    "        print('image',ikey,'shape:',ival.shape)\n",
    "        img_width, img_height = ival.shape\n",
    "    syn_image_stack = np.stack([a for a in t_file['image'].values()],0)"
   ]
  },
  {
   "cell_type": "code",
   "execution_count": 5,
   "metadata": {},
   "outputs": [],
   "source": [
    "head_pose = []\n",
    "with open('gaze.csv') as csv_file:\n",
    "    csv_reader = csv.reader(csv_file, delimiter=',')\n",
    "    next(csv_reader)\n",
    "    for row in csv_reader:\n",
    "        temp1, temp2, temp3 = repr({row[4]}).split(\", \")\n",
    "        fixed1 = temp1.split(\"(\")\n",
    "        fixed3 = temp3.split(\")\")\n",
    "        head_pose.append([round(float(fixed1[1]),4),round(float(temp2)-180,4),float(fixed3[0])])"
   ]
  },
  {
   "cell_type": "markdown",
   "metadata": {},
   "source": [
    "Separting Dataset into classes"
   ]
  },
  {
   "cell_type": "code",
   "execution_count": 6,
   "metadata": {},
   "outputs": [],
   "source": [
    "def to_deg(x):\n",
    "    temp = x*180/math.pi\n",
    "    return temp\n",
    "    \n",
    "def to_rad(x):\n",
    "    temp = x*math.pi/180\n",
    "    return temp\n",
    "\n",
    "def vector(angle): # Use radians\n",
    "    x = math.cos(angle)\n",
    "    y = math.sin(angle)\n",
    "    return x,y\n",
    "\n",
    "def angle_between(angle1, angle2): #angles in degrees\n",
    "    theta1 = vector(to_rad(angle1))\n",
    "    theta2 = vector(to_rad(angle2))\n",
    "    x, y, z = theta1[0]+theta2[1], theta1[1], theta2[0]\n",
    "    return x, y, z"
   ]
  },
  {
   "cell_type": "code",
   "execution_count": 7,
   "metadata": {},
   "outputs": [],
   "source": [
    "Aclass = np.zeros(50000, int)\n",
    "x_train = np.zeros((40000,32,32), np.uint8)\n",
    "y_train = np.zeros(40000, int)\n",
    "x_test = np.zeros((10000,32,32), np.uint8)\n",
    "y_test = np.zeros(10000, int)\n",
    "for index in range(50000):\n",
    "    #print(\"--HEAD ANGLE--\",head_pose[index])\n",
    "    head = angle_between(head_pose[index][0],head_pose[index][1])\n",
    "    #print(head)\n",
    "    #plt.imshow(syn_image_stack[index],cmap='gray')\n",
    "    #print(syn_image_stack[index].shape)\n",
    "    a,b,c,d = look_vec[index]\n",
    "    #print(\"--AB--\",a*90,b*90)\n",
    "    eye = angle_between(a*90,b*90)\n",
    "    #print(eye)\n",
    "    x = head[0]-eye[0]\n",
    "    y = head[1]-eye[1]\n",
    "    z = head[2]-eye[2]\n",
    "    #print(x,y,z)\n",
    "    actual = to_deg(angle(x,y,z))\n",
    "    Aclass[index] = int(math.floor(actual/18))\n",
    "    #print(\"Angle:\",round(actual,2))\n",
    "    #print(\"Class:\", Aclass[index])\n",
    "    #if index % 1000 == 999:\n",
    "        #print(index+1)\n",
    "    image = syn_image_stack[index]\n",
    "    crop = image[3:35, 12:44]\n",
    "    if index < 40000:\n",
    "        x_train[index] = crop\n",
    "        y_train[index] = Aclass[index]\n",
    "    else:\n",
    "        x_test[index-40000] = crop\n",
    "        y_test[index-40000] = Aclass[index]"
   ]
  },
  {
   "cell_type": "code",
   "execution_count": 8,
   "metadata": {},
   "outputs": [
    {
     "name": "stdout",
     "output_type": "stream",
     "text": [
      "[2 0 7 ... 6 1 2]\n"
     ]
    }
   ],
   "source": [
    "print(Aclass)"
   ]
  },
  {
   "cell_type": "code",
   "execution_count": 9,
   "metadata": {},
   "outputs": [
    {
     "data": {
      "text/plain": [
       "{0: 2687,\n",
       " 1: 8284,\n",
       " 2: 7567,\n",
       " 3: 7047,\n",
       " 4: 4887,\n",
       " 5: 4192,\n",
       " 6: 4039,\n",
       " 7: 4364,\n",
       " 8: 4614,\n",
       " 9: 2319}"
      ]
     },
     "execution_count": 9,
     "metadata": {},
     "output_type": "execute_result"
    }
   ],
   "source": [
    "unique, counts = np.unique(Aclass, return_counts=True)\n",
    "dict(zip(unique, counts))"
   ]
  },
  {
   "cell_type": "code",
   "execution_count": 10,
   "metadata": {},
   "outputs": [
    {
     "name": "stdout",
     "output_type": "stream",
     "text": [
      "5\n",
      "(40000, 32, 32)\n"
     ]
    },
    {
     "data": {
      "image/png": "[encoded data removed]",
      "text/plain": [
       "<Figure size 432x288 with 1 Axes>"
      ]
     },
     "metadata": {},
     "output_type": "display_data"
    }
   ],
   "source": [
    "plt.imshow(x_train[4], cmap='gray')\n",
    "print(y_train[4])\n",
    "print(x_train.shape)"
   ]
  },
  {
   "cell_type": "markdown",
   "metadata": {},
   "source": [
    "Neural Network"
   ]
  },
  {
   "cell_type": "code",
   "execution_count": 11,
   "metadata": {},
   "outputs": [],
   "source": [
    "from tensorflow.keras.applications import MobileNetV2\n",
    "from tensorflow.keras.models import Model\n",
    "import tensorflow.keras"
   ]
  },
  {
   "cell_type": "code",
   "execution_count": 12,
   "metadata": {},
   "outputs": [],
   "source": [
    "import numpy as np\n",
    "from matplotlib import pyplot as plt\n",
    "import scipy.io\n",
    "import tensorflow as tf\n",
    "from tensorflow.keras import datasets, layers, models\n",
    "import cv2"
   ]
  },
  {
   "cell_type": "code",
   "execution_count": 13,
   "metadata": {},
   "outputs": [
    {
     "name": "stdout",
     "output_type": "stream",
     "text": [
      "(40000, 32, 32, 1)\n",
      "(10000, 32, 32, 1)\n"
     ]
    }
   ],
   "source": [
    "x_train = x_train.reshape(x_train.shape[0],32,32,1)\n",
    "x_test = x_test.reshape(x_test.shape[0],32,32,1)\n",
    "print(x_train.shape)\n",
    "print(x_test.shape)"
   ]
  },
  {
   "cell_type": "code",
   "execution_count": 14,
   "metadata": {},
   "outputs": [
    {
     "name": "stdout",
     "output_type": "stream",
     "text": [
      "Model: \"sequential\"\n",
      "_________________________________________________________________\n",
      "Layer (type)                 Output Shape              Param #   \n",
      "=================================================================\n",
      "conv2d (Conv2D)              (None, 28, 28, 6)         156       \n",
      "_________________________________________________________________\n",
      "average_pooling2d (AveragePo (None, 14, 14, 6)         0         \n",
      "_________________________________________________________________\n",
      "conv2d_1 (Conv2D)            (None, 10, 10, 16)        2416      \n",
      "_________________________________________________________________\n",
      "average_pooling2d_1 (Average (None, 5, 5, 16)          0         \n",
      "_________________________________________________________________\n",
      "flatten (Flatten)            (None, 400)               0         \n",
      "_________________________________________________________________\n",
      "dense (Dense)                (None, 120)               48120     \n",
      "_________________________________________________________________\n",
      "dense_1 (Dense)              (None, 84)                10164     \n",
      "_________________________________________________________________\n",
      "dense_2 (Dense)              (None, 10)                850       \n",
      "=================================================================\n",
      "Total params: 61,706\n",
      "Trainable params: 61,706\n",
      "Non-trainable params: 0\n",
      "_________________________________________________________________\n"
     ]
    }
   ],
   "source": [
    "input_size = (32,32,1)\n",
    "model = models.Sequential()\n",
    "model.add(layers.Conv2D(6, (5,5), activation='tanh', input_shape=input_size))\n",
    "model.add(layers.AveragePooling2D((2,2)))\n",
    "model.add(layers.Conv2D(16, (5,5), activation='tanh'))\n",
    "model.add(layers.AveragePooling2D((2, 2)))\n",
    "model.add(layers.Flatten())\n",
    "model.add(layers.Dense(120, activation='tanh'))\n",
    "model.add(layers.Dense(84, activation='tanh'))\n",
    "model.add(layers.Dense(10, activation='softmax'))\n",
    "model.summary()"
   ]
  },
  {
   "cell_type": "code",
   "execution_count": 15,
   "metadata": {},
   "outputs": [
    {
     "name": "stdout",
     "output_type": "stream",
     "text": [
      "Epoch 1/10\n",
      "1250/1250 [==============================] - 7s 6ms/step - loss: 1.9898 - accuracy: 0.4711\n",
      "Epoch 2/10\n",
      "1250/1250 [==============================] - 6s 5ms/step - loss: 1.9211 - accuracy: 0.5379\n",
      "Epoch 3/10\n",
      "1250/1250 [==============================] - 6s 5ms/step - loss: 1.8923 - accuracy: 0.5670\n",
      "Epoch 4/10\n",
      "1250/1250 [==============================] - 7s 6ms/step - loss: 1.8767 - accuracy: 0.5831\n",
      "Epoch 5/10\n",
      "1250/1250 [==============================] - 7s 5ms/step - loss: 1.8650 - accuracy: 0.5945\n",
      "Epoch 6/10\n",
      "1250/1250 [==============================] - 7s 6ms/step - loss: 1.8501 - accuracy: 0.6098\n",
      "Epoch 7/10\n",
      "1250/1250 [==============================] - 7s 6ms/step - loss: 1.8452 - accuracy: 0.6156\n",
      "Epoch 8/10\n",
      "1250/1250 [==============================] - 7s 5ms/step - loss: 1.8384 - accuracy: 0.6221\n",
      "Epoch 9/10\n",
      "1250/1250 [==============================] - 7s 5ms/step - loss: 1.8288 - accuracy: 0.6317\n",
      "Epoch 10/10\n",
      "1250/1250 [==============================] - 7s 5ms/step - loss: 1.8264 - accuracy: 0.6345\n"
     ]
    }
   ],
   "source": [
    "model.compile(optimizer='adam', loss=tf.keras.losses.SparseCategoricalCrossentropy(from_logits=True), metrics=['accuracy'])\n",
    "test = model.fit(x_train, y_train, epochs=10)"
   ]
  },
  {
   "cell_type": "code",
   "execution_count": 16,
   "metadata": {},
   "outputs": [
    {
     "data": {
      "image/png": "[encoded data removed]",
      "text/plain": [
       "<Figure size 432x288 with 1 Axes>"
      ]
     },
     "metadata": {},
     "output_type": "display_data"
    }
   ],
   "source": [
    "plt.plot(test.history['accuracy'], label='accuracy')\n",
    "plt.xlabel('Epoch')\n",
    "plt.ylabel('Accuracy')\n",
    "plt.ylim([0, 1])\n",
    "plt.legend(loc='lower right')\n",
    "plt.savefig(\"results.jpg\")"
   ]
  },
  {
   "cell_type": "code",
   "execution_count": 17,
   "metadata": {},
   "outputs": [
    {
     "name": "stdout",
     "output_type": "stream",
     "text": [
      "[[   0  506   25    4    2    0    1    0    1    0]\n",
      " [   0 1353  226   17    5    7    2    0    1    0]\n",
      " [   0  177 1046  266   12   14    1    0    0    0]\n",
      " [   0   26  235 1018  113   16    3    0    2    0]\n",
      " [   0   10   31  240  521  138   11    4    5    0]\n",
      " [   0    3    9   19  159  557  116   17    7    0]\n",
      " [   0    4    8   10   29  191  456  149   12    0]\n",
      " [   0    3    6    3   15   26  156  555  130    0]\n",
      " [   0    3    5    2    6   12   26  147  682    0]\n",
      " [   0    1    3    0    4    6    8   30  386    0]]\n",
      "              precision    recall  f1-score   support\n",
      "\n",
      "           0       0.00      0.00      0.00       539\n",
      "           1       0.65      0.84      0.73      1611\n",
      "           2       0.66      0.69      0.67      1516\n",
      "           3       0.64      0.72      0.68      1413\n",
      "           4       0.60      0.54      0.57       960\n",
      "           5       0.58      0.63      0.60       887\n",
      "           6       0.58      0.53      0.56       859\n",
      "           7       0.62      0.62      0.62       894\n",
      "           8       0.56      0.77      0.65       883\n",
      "           9       0.00      0.00      0.00       438\n",
      "\n",
      "    accuracy                           0.62     10000\n",
      "   macro avg       0.49      0.53      0.51     10000\n",
      "weighted avg       0.56      0.62      0.58     10000\n",
      "\n"
     ]
    },
    {
     "name": "stderr",
     "output_type": "stream",
     "text": [
      "C:\\Users\\SackOfBlubber\\anaconda3\\lib\\site-packages\\sklearn\\metrics\\_classification.py:1221: UndefinedMetricWarning: Precision and F-score are ill-defined and being set to 0.0 in labels with no predicted samples. Use `zero_division` parameter to control this behavior.\n",
      "  _warn_prf(average, modifier, msg_start, len(result))\n"
     ]
    }
   ],
   "source": [
    "from sklearn.metrics import classification_report, confusion_matrix\n",
    "predictions = model.predict(x_test)\n",
    "result = np.zeros(predictions.shape[0])\n",
    "for i in range(predictions.shape[0]):\n",
    "    result[i] = np.argmax(predictions[i])\n",
    "new = y_test.flatten()\n",
    "print(confusion_matrix(new,result))\n",
    "print(classification_report(new,result))"
   ]
  },
  {
   "cell_type": "code",
   "execution_count": null,
   "metadata": {},
   "outputs": [],
   "source": []
  }
 ],
 "metadata": {
  "kernelspec": {
   "display_name": "Python 3",
   "language": "python",
   "name": "python3"
  },
  "language_info": {
   "codemirror_mode": {
    "name": "ipython",
    "version": 3
   },
   "file_extension": ".py",
   "mimetype": "text/x-python",
   "name": "python",
   "nbconvert_exporter": "python",
   "pygments_lexer": "ipython3",
   "version": "3.8.3"
  }
 },
 "nbformat": 4,
 "nbformat_minor": 4
}
