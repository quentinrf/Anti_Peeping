{
 "cells": [
  {
   "cell_type": "code",
   "execution_count": 1,
   "metadata": {},
   "outputs": [],
   "source": [
    "import csv\n",
    "import math\n",
    "import cv2"
   ]
  },
  {
   "cell_type": "code",
   "execution_count": 2,
   "metadata": {},
   "outputs": [],
   "source": [
    "def angle(x,y,z):\n",
    "    return math.atan2(math.sqrt(z**2+y**2),x)"
   ]
  },
  {
   "cell_type": "code",
   "execution_count": 3,
   "metadata": {},
   "outputs": [],
   "source": [
    "from glob import glob\n",
    "import pandas as pd\n",
    "import os\n",
    "import json\n",
    "import matplotlib.pyplot as plt\n",
    "import h5py\n",
    "import numpy as np\n",
    "from skimage.color import rgb2gray\n",
    "from skimage.util import montage\n",
    "import seaborn as sns\n",
    "sns.set_style(\"whitegrid\", {'axes.grid' : False})\n",
    "try:\n",
    "    from tqdm import tqdm\n",
    "except ImportError:\n",
    "    print('Missing tqdm...')\n",
    "    tqdm = lambda x: x\n",
    "data_dir = os.path.join('..', 'input')"
   ]
  },
  {
   "cell_type": "code",
   "execution_count": 4,
   "metadata": {},
   "outputs": [
    {
     "name": "stdout",
     "output_type": "stream",
     "text": [
      "['image', 'look_vec', 'path']\n",
      "Images found: 50000\n"
     ]
    },
    {
     "name": "stderr",
     "output_type": "stream",
     "text": [
      "<ipython-input-4-9e5d51f83d1d>:6: H5pyDeprecationWarning: dataset.value has been deprecated. Use dataset[()] instead.\n",
      "  look_vec = t_file['look_vec'].value\n"
     ]
    },
    {
     "name": "stdout",
     "output_type": "stream",
     "text": [
      "image ..\\..\\..\\..\\Downloads\\UnityEyes_Windows\\UnityEyes_Windows\\imgs\\1.jpg shape: (35, 55)\n"
     ]
    }
   ],
   "source": [
    "# load the data file and extract dimensions\n",
    "with h5py.File('gaze.h5','r') as t_file:\n",
    "    print(list(t_file.keys()))\n",
    "    assert 'image' in t_file, \"Images are missing\"\n",
    "    assert 'look_vec' in t_file, \"Look vector is missing\"\n",
    "    look_vec = t_file['look_vec'].value\n",
    "    assert 'path' in t_file, \"Paths are missing\"\n",
    "    print('Images found:',len(t_file['image']))\n",
    "    for _, (ikey, ival) in zip(range(1), t_file['image'].items()):\n",
    "        print('image',ikey,'shape:',ival.shape)\n",
    "        img_width, img_height = ival.shape\n",
    "    syn_image_stack = np.stack([a for a in t_file['image'].values()],0)"
   ]
  },
  {
   "cell_type": "code",
   "execution_count": 5,
   "metadata": {},
   "outputs": [],
   "source": [
    "head_pose = []\n",
    "with open('gaze.csv') as csv_file:\n",
    "    csv_reader = csv.reader(csv_file, delimiter=',')\n",
    "    next(csv_reader)\n",
    "    for row in csv_reader:\n",
    "        temp1, temp2, temp3 = repr({row[4]}).split(\", \")\n",
    "        fixed1 = temp1.split(\"(\")\n",
    "        fixed3 = temp3.split(\")\")\n",
    "        head_pose.append([round(float(fixed1[1]),4),round(float(temp2)-180,4),float(fixed3[0])])"
   ]
  },
  {
   "cell_type": "markdown",
   "metadata": {},
   "source": [
    "Separting Dataset into classes"
   ]
  },
  {
   "cell_type": "code",
   "execution_count": 6,
   "metadata": {},
   "outputs": [],
   "source": [
    "def to_deg(x):\n",
    "    temp = x*180/math.pi\n",
    "    return temp\n",
    "    \n",
    "def to_rad(x):\n",
    "    temp = x*math.pi/180\n",
    "    return temp\n",
    "\n",
    "def vector(angle): # Use radians\n",
    "    x = math.cos(angle)\n",
    "    y = math.sin(angle)\n",
    "    return x,y\n",
    "\n",
    "def angle_between(angle1, angle2): #angles in degrees\n",
    "    theta1 = vector(to_rad(angle1))\n",
    "    theta2 = vector(to_rad(angle2))\n",
    "    x, y, z = theta1[0]+theta2[1], theta1[1], theta2[0]\n",
    "    return x, y, z"
   ]
  },
  {
   "cell_type": "code",
   "execution_count": 7,
   "metadata": {},
   "outputs": [],
   "source": [
    "Aclass = np.zeros(50000, int)\n",
    "x_train = np.zeros((40000,32,32), np.uint8)\n",
    "y_train = np.zeros(40000, int)\n",
    "x_test = np.zeros((10000,32,32), np.uint8)\n",
    "y_test = np.zeros(10000, int)\n",
    "for index in range(50000):\n",
    "    #print(\"--HEAD ANGLE--\",head_pose[index])\n",
    "    head = angle_between(head_pose[index][0],head_pose[index][1])\n",
    "    #print(head)\n",
    "    #plt.imshow(syn_image_stack[index],cmap='gray')\n",
    "    #print(syn_image_stack[index].shape)\n",
    "    a,b,c,d = look_vec[index]\n",
    "    #print(\"--AB--\",a*90,b*90)\n",
    "    eye = angle_between(a*90,b*90)\n",
    "    #print(eye)\n",
    "    x = head[0]-eye[0]\n",
    "    y = head[1]-eye[1]\n",
    "    z = head[2]-eye[2]\n",
    "    #print(x,y,z)\n",
    "    actual = to_deg(angle(x,y,z))\n",
    "    Aclass[index] = int(math.floor(actual/18))\n",
    "    #print(\"Angle:\",round(actual,2))\n",
    "    #print(\"Class:\", Aclass[index])\n",
    "    #if index % 1000 == 999:\n",
    "        #print(index+1)\n",
    "    image = syn_image_stack[index]\n",
    "    crop = image[3:35, 12:44]\n",
    "    if index < 40000:\n",
    "        x_train[index] = crop\n",
    "        y_train[index] = Aclass[index]\n",
    "    else:\n",
    "        x_test[index-40000] = crop\n",
    "        y_test[index-40000] = Aclass[index]"
   ]
  },
  {
   "cell_type": "code",
   "execution_count": 8,
   "metadata": {},
   "outputs": [
    {
     "name": "stdout",
     "output_type": "stream",
     "text": [
      "[2 0 7 ... 6 1 2]\n"
     ]
    }
   ],
   "source": [
    "print(Aclass)"
   ]
  },
  {
   "cell_type": "code",
   "execution_count": 9,
   "metadata": {},
   "outputs": [
    {
     "data": {
      "text/plain": [
       "{0: 2687,\n",
       " 1: 8284,\n",
       " 2: 7567,\n",
       " 3: 7047,\n",
       " 4: 4887,\n",
       " 5: 4192,\n",
       " 6: 4039,\n",
       " 7: 4364,\n",
       " 8: 4614,\n",
       " 9: 2319}"
      ]
     },
     "execution_count": 9,
     "metadata": {},
     "output_type": "execute_result"
    }
   ],
   "source": [
    "unique, counts = np.unique(Aclass, return_counts=True)\n",
    "dict(zip(unique, counts))"
   ]
  },
  {
   "cell_type": "code",
   "execution_count": 10,
   "metadata": {},
   "outputs": [
    {
     "name": "stdout",
     "output_type": "stream",
     "text": [
      "5\n",
      "(40000, 32, 32)\n"
     ]
    },
    {
     "data": {
      "image/png": "[encoded data removed]",
      "text/plain": [
       "<Figure size 432x288 with 1 Axes>"
      ]
     },
     "metadata": {},
     "output_type": "display_data"
    }
   ],
   "source": [
    "plt.imshow(x_train[4], cmap='gray')\n",
    "print(y_train[4])\n",
    "print(x_train.shape)"
   ]
  },
  {
   "cell_type": "markdown",
   "metadata": {},
   "source": [
    "Neural Network"
   ]
  },
  {
   "cell_type": "code",
   "execution_count": 30,
   "metadata": {},
   "outputs": [],
   "source": [
    "import numpy as np\n",
    "from matplotlib import pyplot as plt\n",
    "import tensorflow as tf\n",
    "import cv2"
   ]
  },
  {
   "cell_type": "code",
   "execution_count": 31,
   "metadata": {},
   "outputs": [
    {
     "name": "stdout",
     "output_type": "stream",
     "text": [
      "(40000, 32, 32, 1)\n",
      "(10000, 32, 32, 1)\n"
     ]
    }
   ],
   "source": [
    "x_train = x_train.reshape(x_train.shape[0],32,32,1)\n",
    "x_test = x_test.reshape(x_test.shape[0],32,32,1)\n",
    "print(x_train.shape)\n",
    "print(x_test.shape)"
   ]
  },
  {
   "cell_type": "code",
   "execution_count": 46,
   "metadata": {},
   "outputs": [
    {
     "name": "stdout",
     "output_type": "stream",
     "text": [
      "Model: \"sequential_6\"\n",
      "_________________________________________________________________\n",
      "Layer (type)                 Output Shape              Param #   \n",
      "=================================================================\n",
      "conv2d_11 (Conv2D)           (None, 28, 28, 6)         156       \n",
      "_________________________________________________________________\n",
      "average_pooling2d_10 (Averag (None, 14, 14, 6)         0         \n",
      "_________________________________________________________________\n",
      "conv2d_12 (Conv2D)           (None, 10, 10, 16)        2416      \n",
      "_________________________________________________________________\n",
      "average_pooling2d_11 (Averag (None, 5, 5, 16)          0         \n",
      "_________________________________________________________________\n",
      "flatten_5 (Flatten)          (None, 400)               0         \n",
      "_________________________________________________________________\n",
      "dense_15 (Dense)             (None, 120)               48120     \n",
      "_________________________________________________________________\n",
      "dense_16 (Dense)             (None, 84)                10164     \n",
      "_________________________________________________________________\n",
      "dense_17 (Dense)             (None, 10)                850       \n",
      "=================================================================\n",
      "Total params: 61,706\n",
      "Trainable params: 61,706\n",
      "Non-trainable params: 0\n",
      "_________________________________________________________________\n"
     ]
    }
   ],
   "source": [
    "model = tf.keras.Sequential()\n",
    "model.add(tf.keras.layers.Conv2D(6, (5,5), activation='sigmoid', input_shape=(32,32,1)))\n",
    "model.add(tf.keras.layers.AveragePooling2D(pool_size=(2,2)))\n",
    "model.add(tf.keras.layers.Conv2D(16, (5,5), activation='sigmoid'))\n",
    "model.add(tf.keras.layers.AveragePooling2D(pool_size=(2,2)))\n",
    "model.add(tf.keras.layers.Flatten())\n",
    "model.add(tf.keras.layers.Dense(120, activation='sigmoid'))\n",
    "model.add(tf.keras.layers.Dense(84, activation='sigmoid'))\n",
    "model.add(tf.keras.layers.Dense(10, activation='softmax'))\n",
    "model.summary()"
   ]
  },
  {
   "cell_type": "code",
   "execution_count": 47,
   "metadata": {},
   "outputs": [
    {
     "name": "stdout",
     "output_type": "stream",
     "text": [
      "Epoch 1/10\n",
      "1250/1250 [==============================] - 7s 6ms/step - loss: 1.4333 - accuracy: 0.4273\n",
      "Epoch 2/10\n",
      "1250/1250 [==============================] - 7s 5ms/step - loss: 1.0024 - accuracy: 0.5774\n",
      "Epoch 3/10\n",
      "1250/1250 [==============================] - 7s 5ms/step - loss: 0.8571 - accuracy: 0.6368\n",
      "Epoch 4/10\n",
      "1250/1250 [==============================] - 6s 5ms/step - loss: 0.7788 - accuracy: 0.6689\n",
      "Epoch 5/10\n",
      "1250/1250 [==============================] - 7s 5ms/step - loss: 0.7342 - accuracy: 0.6872\n",
      "Epoch 6/10\n",
      "1250/1250 [==============================] - 7s 5ms/step - loss: 0.6931 - accuracy: 0.7050\n",
      "Epoch 7/10\n",
      "1250/1250 [==============================] - 8s 6ms/step - loss: 0.6626 - accuracy: 0.7163\n",
      "Epoch 8/10\n",
      "1250/1250 [==============================] - 7s 6ms/step - loss: 0.6348 - accuracy: 0.7285\n",
      "Epoch 9/10\n",
      "1250/1250 [==============================] - 7s 5ms/step - loss: 0.6111 - accuracy: 0.7407\n",
      "Epoch 10/10\n",
      "1250/1250 [==============================] - ETA: 0s - loss: 0.5907 - accuracy: 0.74 - 7s 6ms/step - loss: 0.5910 - accuracy: 0.7485\n"
     ]
    }
   ],
   "source": [
    "model.compile(optimizer='adam', loss='sparse_categorical_crossentropy', metrics=['accuracy'])\n",
    "test = model.fit(x_train, y_train, epochs=10)"
   ]
  },
  {
   "cell_type": "code",
   "execution_count": 48,
   "metadata": {},
   "outputs": [
    {
     "data": {
      "image/png": "[encoded data removed]",
      "text/plain": [
       "<Figure size 432x288 with 1 Axes>"
      ]
     },
     "metadata": {},
     "output_type": "display_data"
    }
   ],
   "source": [
    "plt.plot(test.history['accuracy'], label='accuracy')\n",
    "plt.xlabel('Epoch')\n",
    "plt.ylabel('Accuracy')\n",
    "plt.ylim([0, 1])\n",
    "plt.legend(loc='lower right')\n",
    "plt.savefig(\"results.jpg\")"
   ]
  },
  {
   "cell_type": "code",
   "execution_count": 49,
   "metadata": {},
   "outputs": [
    {
     "name": "stdout",
     "output_type": "stream",
     "text": [
      "[[ 401  126    4    3    0    3    0    0    2    0]\n",
      " [  83 1313  188   16    0    7    1    0    3    0]\n",
      " [   4  144 1068  274    6   15    0    1    4    0]\n",
      " [   0    7  129 1082  146   45    1    2    1    0]\n",
      " [   0    4    3  112  578  253    3    3    3    1]\n",
      " [   0    1    1    5   38  743   80   15    4    0]\n",
      " [   0    0    1    0    2  215  497  129   15    0]\n",
      " [   0    0    0    1    0   17   84  689  101    2]\n",
      " [   0    0    0    0    0   10    1  148  700   24]\n",
      " [   0    0    0    1    0    1    0    6  173  257]]\n",
      "             precision    recall  f1-score   support\n",
      "\n",
      "          0       0.82      0.74      0.78       539\n",
      "          1       0.82      0.82      0.82      1611\n",
      "          2       0.77      0.70      0.73      1516\n",
      "          3       0.72      0.77      0.74      1413\n",
      "          4       0.75      0.60      0.67       960\n",
      "          5       0.57      0.84      0.68       887\n",
      "          6       0.75      0.58      0.65       859\n",
      "          7       0.69      0.77      0.73       894\n",
      "          8       0.70      0.79      0.74       883\n",
      "          9       0.90      0.59      0.71       438\n",
      "\n",
      "avg / total       0.74      0.73      0.73     10000\n",
      "\n"
     ]
    }
   ],
   "source": [
    "from sklearn.metrics import classification_report, confusion_matrix\n",
    "predictions = model.predict(x_test)\n",
    "result = np.zeros(predictions.shape[0])\n",
    "for i in range(predictions.shape[0]):\n",
    "    result[i] = np.argmax(predictions[i])\n",
    "new = y_test.flatten()\n",
    "print(confusion_matrix(new,result))\n",
    "print(classification_report(new,result))"
   ]
  },
  {
   "cell_type": "markdown",
   "metadata": {},
   "source": [
    "Export CNN for usage in coreML"
   ]
  },
  {
   "cell_type": "code",
   "execution_count": 50,
   "metadata": {},
   "outputs": [],
   "source": [
    "model.save('GazeCNN.h5')"
   ]
  },
  {
   "cell_type": "code",
   "execution_count": 51,
   "metadata": {},
   "outputs": [
    {
     "name": "stdout",
     "output_type": "stream",
     "text": [
      "[[ 401  126    4    3    0    3    0    0    2    0]\n",
      " [  83 1313  188   16    0    7    1    0    3    0]\n",
      " [   4  144 1068  274    6   15    0    1    4    0]\n",
      " [   0    7  129 1082  146   45    1    2    1    0]\n",
      " [   0    4    3  112  578  253    3    3    3    1]\n",
      " [   0    1    1    5   38  743   80   15    4    0]\n",
      " [   0    0    1    0    2  215  497  129   15    0]\n",
      " [   0    0    0    1    0   17   84  689  101    2]\n",
      " [   0    0    0    0    0   10    1  148  700   24]\n",
      " [   0    0    0    1    0    1    0    6  173  257]]\n",
      "             precision    recall  f1-score   support\n",
      "\n",
      "          0       0.82      0.74      0.78       539\n",
      "          1       0.82      0.82      0.82      1611\n",
      "          2       0.77      0.70      0.73      1516\n",
      "          3       0.72      0.77      0.74      1413\n",
      "          4       0.75      0.60      0.67       960\n",
      "          5       0.57      0.84      0.68       887\n",
      "          6       0.75      0.58      0.65       859\n",
      "          7       0.69      0.77      0.73       894\n",
      "          8       0.70      0.79      0.74       883\n",
      "          9       0.90      0.59      0.71       438\n",
      "\n",
      "avg / total       0.74      0.73      0.73     10000\n",
      "\n"
     ]
    }
   ],
   "source": [
    "from tensorflow.keras.models import load_model\n",
    "temp = load_model('GazeCNN.h5')\n",
    "predictions = temp.predict(x_test)\n",
    "result = np.zeros(predictions.shape[0])\n",
    "for i in range(predictions.shape[0]):\n",
    "    result[i] = np.argmax(predictions[i])\n",
    "new = y_test.flatten()\n",
    "print(confusion_matrix(new,result))\n",
    "print(classification_report(new,result))"
   ]
  },
  {
   "cell_type": "code",
   "execution_count": 63,
   "metadata": {},
   "outputs": [
    {
     "name": "stderr",
     "output_type": "stream",
     "text": [
      "Running TensorFlow Graph Passes: 100%|██████████| 5/5 [00:00<00:00, 39.67 passes/s]\n",
      "Converting Frontend ==> MIL Ops: 100%|██████████| 31/31 [00:00<00:00, 2008.18 ops/s]\n",
      "Running MIL optimization passes: 100%|██████████| 17/17 [00:00<00:00, 852.31 passes/s]\n",
      "Translating MIL ==> MLModel Ops: 100%|██████████| 45/45 [00:00<00:00, 819.12 ops/s]\n"
     ]
    }
   ],
   "source": [
    "import coremltools\n",
    "GazeCNN = coremltools.convert(model)\n",
    "GazeCNN.short_description = 'Gaze Recognition CNN'\n",
    "GazeCNN.save('GazeCNN.mlmodel')"
   ]
  },
  {
   "cell_type": "code",
   "execution_count": null,
   "metadata": {},
   "outputs": [],
   "source": []
  }
 ],
 "metadata": {
  "kernelspec": {
   "display_name": "Python 3",
   "language": "python",
   "name": "python3"
  },
  "language_info": {
   "codemirror_mode": {
    "name": "ipython",
    "version": 3
   },
   "file_extension": ".py",
   "mimetype": "text/x-python",
   "name": "python",
   "nbconvert_exporter": "python",
   "pygments_lexer": "ipython3",
   "version": "3.8.3"
  }
 },
 "nbformat": 4,
 "nbformat_minor": 4
}
